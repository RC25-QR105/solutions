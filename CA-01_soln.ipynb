{
 "cells": [
  {
   "cell_type": "markdown",
   "id": "97f8bc26-47fb-4b5b-9e6d-27dfbf9441fa",
   "metadata": {},
   "source": [
    "# Coding Activity 1\n",
    "\n",
    "For this activity you'll explore using markdown cells, variables, printing output, and basic operations.\n",
    "\n",
    "### How to complete the assignment\n",
    "For each question, add your code to the code block below each question.\n",
    "\n",
    "### Assignment submission\n",
    "You need to save this notebook to the GitHub repository created for your assignment. Then copy the repo link and \n",
    "\n",
    "### Assessment\n",
    "\n",
    "Coding activities are designed to get you practising in code while in class. They're generally graded for completion - code either runs or it doesn't.\n",
    "\n",
    "However, if you can't get something to work, honest attempts will recieve credit. So if you run into issues, add a markdown cell or add comments to your code so I can see what you tried and how you attempted to resolve the issue."
   ]
  },
  {
   "cell_type": "markdown",
   "id": "2613976b-5791-4573-ac83-2e5eb923cabf",
   "metadata": {},
   "source": [
    "## 1. Use a print statement with variables\n",
    "\n",
    "Write some code that uses variables to print the following line with your relevant information:\n",
    "\n",
    ">My name is __ , and I am __ years old.\n",
    "\n",
    "The code block below has comments to help you out. You should write the relevant code below each comment\n"
   ]
  },
  {
   "cell_type": "code",
   "execution_count": 9,
   "id": "afb4490e-6c81-405b-9cc7-9c9518f55338",
   "metadata": {},
   "outputs": [
    {
     "name": "stdout",
     "output_type": "stream",
     "text": [
      "My name is Reggie, and I am 39 years old.\n"
     ]
    }
   ],
   "source": [
    "# define variables\n",
    "name = \"Reggie\"\n",
    "age = 39\n",
    "\n",
    "\n",
    "# print statement\n",
    "print(f'My name is {name}, and I am {age} years old.')\n"
   ]
  },
  {
   "cell_type": "markdown",
   "id": "ebff5abf-e8a7-469e-a96b-333708d80de4",
   "metadata": {},
   "source": [
    "## 2. Use an f string\n",
    "\n",
    "Use one variable (given in the code block below) and an f string to produce the following output: \n",
    "\n",
    "```\n",
    "5 x 1 = 5\n",
    "5 x 2 = 10\n",
    "5 x 3 = 15\n",
    "5 x 4 = 20\n",
    "5 x 5 = 25\n",
    "```"
   ]
  },
  {
   "cell_type": "code",
   "execution_count": 3,
   "id": "dd7d7f9a-daa9-4f80-8c51-5867f503deb8",
   "metadata": {},
   "outputs": [
    {
     "name": "stdout",
     "output_type": "stream",
     "text": [
      "5 x 1 = 5\n",
      "5 x 2 = 10\n",
      "5 x 3 = 15\n",
      "5 x 4 = 20\n",
      "5 x 5 = 25\n"
     ]
    }
   ],
   "source": [
    "# number to multiply\n",
    "number = 5\n",
    "# print multiplication table\n",
    "print(f\"{number} x 1 = {number * 1}\")\n",
    "print(f\"{number} x 2 = {number * 2}\")\n",
    "print(f\"{number} x 3 = {number * 3}\")\n",
    "print(f\"{number} x 4 = {number * 4}\")\n",
    "print(f\"{number} x 5 = {number * 5}\")"
   ]
  },
  {
   "cell_type": "code",
   "execution_count": null,
   "id": "6a1f84ac-cfc0-4e66-8d76-8713e107f5a3",
   "metadata": {},
   "outputs": [],
   "source": []
  },
  {
   "cell_type": "markdown",
   "id": "e9038748-ca91-4202-ad2d-88bcdecf0216",
   "metadata": {},
   "source": [
    "## 3. Perform the requested operations\n",
    "Note that we did not explicitly cover these in class. Use your resources to find out how to do it. When doing searches, don't forget to add \"in Python\" to your query - otherwise you'll get all sorts of irrelevant answers."
   ]
  },
  {
   "cell_type": "code",
   "execution_count": 4,
   "id": "866cc63d-1d40-4bdd-b9c2-43ece4e468df",
   "metadata": {},
   "outputs": [
    {
     "data": {
      "text/plain": [
       "'0b101010'"
      ]
     },
     "execution_count": 4,
     "metadata": {},
     "output_type": "execute_result"
    }
   ],
   "source": [
    "# convert the number 42 to binary\n",
    "bin(42)"
   ]
  },
  {
   "cell_type": "code",
   "execution_count": 10,
   "id": "c1b45bdb-a24e-4ff9-99b9-c8218ff9af90",
   "metadata": {},
   "outputs": [
    {
     "data": {
      "text/plain": [
       "1927"
      ]
     },
     "execution_count": 10,
     "metadata": {},
     "output_type": "execute_result"
    }
   ],
   "source": [
    "# convert the binary number 11110000111 to an integer\n",
    "int('11110000111', 2)"
   ]
  },
  {
   "cell_type": "markdown",
   "id": "0147f661-22a3-4b1d-8610-4dd8c8cd6904",
   "metadata": {},
   "source": [
    "## 4. Create a Markdown Cell\n",
    "\n",
    "Add a new markdown cell below this one. Share some thoughts on your first day coding in this class (something you found surprising, something you're confused about, etc). You can say anything - the goal is for you to practice adding text to a notebook 😊"
   ]
  }
 ],
 "metadata": {
  "kernelspec": {
   "display_name": "Python 3 (ipykernel)",
   "language": "python",
   "name": "python3"
  },
  "language_info": {
   "codemirror_mode": {
    "name": "ipython",
    "version": 3
   },
   "file_extension": ".py",
   "mimetype": "text/x-python",
   "name": "python",
   "nbconvert_exporter": "python",
   "pygments_lexer": "ipython3",
   "version": "3.10.13"
  }
 },
 "nbformat": 4,
 "nbformat_minor": 5
}
