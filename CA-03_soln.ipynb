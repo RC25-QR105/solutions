{
 "cells": [
  {
   "cell_type": "markdown",
   "id": "b34fb6b9-122d-4b73-aee5-5f550fb0f3ed",
   "metadata": {},
   "source": [
    "# Coding Activity 3 Solutions\n",
    "\n",
    "For this activity you'll be generating some code incorporating the basic syntax and structures we've learned thus far to produce a simple game.\n"
   ]
  },
  {
   "cell_type": "markdown",
   "id": "6fabc737-a2d6-4e13-affe-0a8597638929",
   "metadata": {
    "jp-MarkdownHeadingCollapsed": true
   },
   "source": [
    "## How coding assignments work"
   ]
  },
  {
   "cell_type": "markdown",
   "id": "0af37cc4-f74b-45dc-81b3-1409bf26021f",
   "metadata": {},
   "source": [
    "### How to complete the assignment\n",
    "For each question, add your code to the code block below each question.\n",
    "\n",
    "### Assignment submission\n",
    "You need to save this notebook to the GitHub repository created for your assignment. Then copy the repo link and submit it to the assignment in Moodle.\n",
    "\n",
    "### Assessment\n",
    "\n",
    "Coding activities are designed to get you practising in code while in class. They're generally graded for completion - code either runs or it doesn't.\n",
    "\n",
    "However, if you can't get something to work, honest attempts will recieve credit. So if you run into issues, add a markdown cell or add comments to your code so I can see what you tried and how you attempted to resolve the issue.\n",
    "\n",
    "### You must cite use of outside resources\n",
    "\n",
    "You must cite outside resources you used on any component of your assignment. For each problem or component you use an outside source, add a markdown cell and provide a description or direct link to the resource used. This includes working closely with fellow classmates, seeking the help of a tutor, or consulting generative AI resources. Note that work suspected to be directly copied from AI sources will receive zero credit, regardless of citation. You should never be copying and pasting code and calling it your own."
   ]
  },
  {
   "cell_type": "markdown",
   "id": "edbb2ee2-8166-46d9-9445-9e63434f91bc",
   "metadata": {},
   "source": [
    "## Guess the Number\n",
    "\n",
    "For this assignment you will be writing code for a \"Guess the Number\" game. The basic set up is to have the computer select a random value, then prompt the user to guess the integer value. The user will have a limited number of guesses. The game should output certain responses based on the guesss (i.e. if the guess is correct, too high or too low, or run out of guesses)\n",
    "\n",
    "The assignment is set up in two parts. The first is to write psuedocode - i.e. to develop an outline for your game that you will translate later into code and the second is to actually write the code for the game. \n",
    "\n",
    "Your code must meet the following conditions for the game:\n",
    "\n",
    "**INPUT**\n",
    "\n",
    "Take input from the user: a guess in the form of an integer from 1 to 10.\n",
    "\n",
    "**OUTPUT**\n",
    "\n",
    "Print messages when\n",
    "* The guess is correct\n",
    "* The guess is too low\n",
    "* The guess is too high\n",
    "* The user has run out of guesses.\n",
    "\n",
    "### Recommendations\n",
    "\n",
    "* Talk through your code with your classmates, outline the logic you think you'll use before writing any code.\n",
    "* Write your code in pieces - meaning, write a small part, then test, then add to it and test again.\n",
    "* You can use any of the structures we've learned so far to get this to work - there are several ways to do this.\n",
    "* While chatgpt or other online sources will provide a solution to this problem, if you go right to copying those solutions you rob yourself of the opportunity to _learn_. Remember that honest attempts recieve most of the points on the assignment."
   ]
  },
  {
   "cell_type": "markdown",
   "id": "3521e059-8194-4b2b-aa35-ce58eb8ad348",
   "metadata": {},
   "source": [
    "## 1. Write psuedocode\n",
    "\n",
    "For the first step in this assignment I would like you to work with a partner to develop the pseuedocode for the game. Write it out on the board or on a piece of paper as you talk through what you think needs to happen in your code. Write up your psuedocode in the markdown cell below.\n"
   ]
  },
  {
   "cell_type": "code",
   "execution_count": null,
   "id": "5169d3d7-5c73-4ef2-bc47-ec60ddbf05d6",
   "metadata": {},
   "outputs": [],
   "source": [
    "## no solution given as responses can vary"
   ]
  },
  {
   "cell_type": "markdown",
   "id": "e9038748-ca91-4202-ad2d-88bcdecf0216",
   "metadata": {},
   "source": [
    "## 2. The start of your code is given below. You should write all of your code in the single code cell below."
   ]
  },
  {
   "cell_type": "markdown",
   "id": "05f1c0cb-0039-4d13-8eb2-19df107624f7",
   "metadata": {},
   "source": [
    "### Implementation Using a For Loop"
   ]
  },
  {
   "cell_type": "code",
   "execution_count": null,
   "id": "379da34e-8368-4173-8008-97b09b19e087",
   "metadata": {},
   "outputs": [],
   "source": [
    "import random\n",
    "\n",
    "number = random.randint(1,10)  # randomly selects an integer from 1 to 10 and stores it in number\n",
    "\n",
    "## set a limit for number of guesses\n",
    "max_guesses = 3\n",
    "\n",
    "# loop until you win or max guesses used\n",
    "for i in range(max_guesses):\n",
    "    \n",
    "    # prompts the user for a guess\n",
    "    guess = int(input('Guess an integer from 1 to 10: '))\n",
    "\n",
    "    # check each guess\n",
    "    if guess < number:\n",
    "        print('Your guess is too low')\n",
    "\n",
    "    elif guess > number:\n",
    "        print('Your guess is too high')\n",
    "\n",
    "    elif guess == number:\n",
    "        print('You guessed right')\n",
    "        break\n",
    "\n",
    "    # check if guesses remaining\n",
    "    if i == (max_guesses-1):\n",
    "        print('You have run out of guesses')\n",
    "\n"
   ]
  },
  {
   "cell_type": "markdown",
   "id": "7005d0ab-197a-4216-919f-22fe919b930a",
   "metadata": {},
   "source": [
    "### Implementation Using a While Loop"
   ]
  },
  {
   "cell_type": "code",
   "execution_count": null,
   "id": "b9e547d9-cd7d-4e08-8ab4-10794dab72f7",
   "metadata": {},
   "outputs": [],
   "source": [
    "number = random.randint(1,10)  # randomly selects an integer from 1 to 10 and stores it in number\n",
    "\n",
    "## set a limit for number of guesses\n",
    "total_guesses = 3\n",
    "\n",
    "# while you still have guesses\n",
    "while total_guesses > 0:\n",
    "    \n",
    "    # prompts the user for a guess\n",
    "    guess = int(input('Guess an integer from 1 to 10: '))\n",
    "\n",
    "    # check each guess\n",
    "    if guess < number:\n",
    "        print('Your guess is too low. Try again!')\n",
    "\n",
    "    elif guess > number:\n",
    "        print('Your guess is too high. Try again!')\n",
    "\n",
    "    elif guess == number:\n",
    "        print('You guessed right. You win!')\n",
    "        break\n",
    "\n",
    "    # subtract one from total number of guesses\n",
    "    total_guesses -= 1\n",
    "    \n",
    "    # check if guesses remaining\n",
    "    if total_guesses == 0:\n",
    "        print('Sorry! You ran out of guesses')\n"
   ]
  },
  {
   "cell_type": "markdown",
   "id": "79cbe1c2-f9e1-40db-af85-817e5ed1fabf",
   "metadata": {},
   "source": [
    "### Making it more 'Fun'\n",
    "\n",
    "Adding some [ASCII art](https://en.wikipedia.org/wiki/ASCII_art) via some multiline strings adds a little flavor to a very basic game."
   ]
  },
  {
   "cell_type": "code",
   "execution_count": null,
   "id": "276456dc-cb5e-41e9-b52a-c5f1d7243089",
   "metadata": {},
   "outputs": [],
   "source": [
    "number = random.randint(1,10)  # randomly selects an integer from 1 to 10 and stores it in number\n",
    "\n",
    "## set a limit for number of guesses\n",
    "total_guesses = 3\n",
    "\n",
    "title_string = '''\n",
    "  -=-=-=-=-=-=-=-=-=-=-=-=-=-=-=-=-\n",
    "  |                               |\n",
    "  |  Let's Play Guess the Number! |\n",
    "  |                               |\n",
    "  -=-=-=-=-=-=-=-=-=-=-=-=-=-=-=-=-\n",
    "'''\n",
    "\n",
    "win_art = '''\n",
    "    ~~~~~~~~~~~~~~~~~~~~~~~~~~~~~~~\n",
    "          You guessed right!\n",
    "          \n",
    "    \\( ^o^ )/  \\( ^o^ )/  \\( ^o^ )/  \n",
    "    \n",
    "              You win!\n",
    "    ~~~~~~~~~~~~~~~~~~~~~~~~~~~~~~~\n",
    "'''\n",
    "\n",
    "lose_art = '''\n",
    "    ~~~~~~~~~~~~~~~~~~~~~~~~~~~~~~~\n",
    "               Sorry!        \n",
    "      You have run out of guesses\n",
    "    \n",
    "    (´•︵•`)   (´•︵•`)    (´•︵•`)\n",
    "    \n",
    "              You lose!\n",
    "    ~~~~~~~~~~~~~~~~~~~~~~~~~~~~~~~\n",
    "'''\n",
    "\n",
    "print(title_string) # print the title string defined above\n",
    "\n",
    "while total_guesses > 0:\n",
    "    \n",
    "    # prompts the user for a guess\n",
    "    guess = int(input('Guess an integer from 1 to 10: '))\n",
    "\n",
    "    # check each guess\n",
    "    if guess < number:\n",
    "        print('Your guess is too low.')\n",
    "\n",
    "    elif guess > number:\n",
    "        print('Your guess is too high.')\n",
    "\n",
    "    elif guess == number:\n",
    "        print(win_art) # print the win art defined above\n",
    "        break\n",
    "\n",
    "    # subtract one from total number of guesses\n",
    "    total_guesses -= 1\n",
    "    \n",
    "    # check if guesses remaining\n",
    "    if total_guesses == 0:\n",
    "        print(lose_art) # print the lose art defined above\n"
   ]
  }
 ],
 "metadata": {
  "kernelspec": {
   "display_name": "Python 3 (ipykernel)",
   "language": "python",
   "name": "python3"
  },
  "language_info": {
   "codemirror_mode": {
    "name": "ipython",
    "version": 3
   },
   "file_extension": ".py",
   "mimetype": "text/x-python",
   "name": "python",
   "nbconvert_exporter": "python",
   "pygments_lexer": "ipython3",
   "version": "3.10.13"
  }
 },
 "nbformat": 4,
 "nbformat_minor": 5
}
